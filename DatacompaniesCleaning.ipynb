{
 "cells": [
  {
   "cell_type": "code",
   "execution_count": 1,
   "metadata": {},
   "outputs": [],
   "source": [
    "import pandas as pd\n",
    "import re\n",
    "from pymongo import MongoClient\n",
    "client = MongoClient('mongodb://localhost:27017/')\n",
    "db = client.companies"
   ]
  },
  {
   "cell_type": "code",
   "execution_count": 2,
   "metadata": {},
   "outputs": [],
   "source": [
    "at_least_1_office = db.companies.find({\"offices\":{\"$not\":{\"$size\":0}}})\n"
   ]
  },
  {
   "cell_type": "code",
   "execution_count": 3,
   "metadata": {},
   "outputs": [],
   "source": [
    "df = pd.DataFrame(at_least_1_office)"
   ]
  },
  {
   "cell_type": "code",
   "execution_count": 4,
   "metadata": {},
   "outputs": [],
   "source": [
    "def getFirst(data):\n",
    "\n",
    "    data = data['offices']\n",
    "\n",
    "    principal = None\n",
    "\n",
    "    if data[0]['latitude'] and data[0]['longitude']:\n",
    "\n",
    "        principal = {\n",
    "\n",
    "            \"type\":\"Point\",\n",
    "\n",
    "            \"coordinates\":[data[0]['longitude'], data[0]['latitude']]\n",
    "\n",
    "        }\n",
    "\n",
    "    return {\n",
    "\n",
    "        \"totalOffices\": len(data),\n",
    "\n",
    "        \"lat\": data[0]['latitude'],\n",
    "\n",
    "        \"lng\": data[0]['longitude'],\n",
    "\n",
    "        \"oficina_principal\": principal\n",
    "\n",
    "    }\n",
    "\n",
    "Geoloc = df[[\"offices\"]].apply(getFirst, result_type=\"expand\", axis=1)"
   ]
  },
  {
   "cell_type": "raw",
   "metadata": {},
   "source": [
    "def get(d):\n",
    "    d = d['offices']\n",
    "    \n",
    "    for i in d:\n",
    "        if i['latitude'] and i['longitude']:\n",
    "            return {\"lat\": d[0]['latitude'], \"lng\": d[0]['longitude']}\n",
    "\n",
    "\n",
    "Geoloc = df[[\"offices\"]].apply(get, result_type=\"expand\", axis=1)"
   ]
  },
  {
   "cell_type": "code",
   "execution_count": 5,
   "metadata": {},
   "outputs": [],
   "source": [
    "df.drop(['_id', 'acquisition','created_at', 'crunchbase_url', 'ipo', 'homepage_url', 'image', 'partners', 'providerships', 'updated_at',  'permalink', 'products', 'external_links', 'acquisitions', 'alias_list', 'blog_feed_url', 'blog_url', 'category_code', 'deadpooled_day', 'deadpooled_month', 'deadpooled_url', 'email_address', 'founded_day', 'founded_month', 'phone_number', 'screenshots', 'tag_list', 'twitter_username', 'video_embeds', 'relationships', 'milestones', 'investments', 'overview', 'funding_rounds', 'competitions'] , axis=1, inplace=True)"
   ]
  },
  {
   "cell_type": "code",
   "execution_count": 6,
   "metadata": {},
   "outputs": [],
   "source": [
    "df= df[['description', 'founded_year', 'name', 'total_money_raised', 'number_of_employees', 'deadpooled_year']].fillna('Unknown')"
   ]
  },
  {
   "cell_type": "code",
   "execution_count": 7,
   "metadata": {},
   "outputs": [],
   "source": [
    "DataBase = pd.concat([df, Geoloc], axis=1)"
   ]
  },
  {
   "cell_type": "code",
   "execution_count": 8,
   "metadata": {},
   "outputs": [],
   "source": [
    "def showmedamoney (m):\n",
    "    \n",
    "    m=str(m)\n",
    "    \n",
    "    floatmoney = float((re.findall('\\d+|\\d+.?\\d+', m))[0])\n",
    "    \n",
    "    if m.startswith('C$'):x = floatmoney*1.31\n",
    "    elif m.startswith('€'):x = floatmoney*0.89\n",
    "    elif m.startswith('$'):x = floatmoney\n",
    "    elif m.startswith('£'):x = floatmoney*0.80\n",
    "    elif m.startswith('¥'):x = floatmoney*108.96\n",
    "    else:\n",
    "        x=floatmoney\n",
    "        \n",
    "    if m.endswith('M'):\n",
    "        x = x*1000000\n",
    "        return x\n",
    "    elif m.endswith('B'):\n",
    "        x = x*1000000000\n",
    "        return x\n",
    "    elif m.endswith('k'):\n",
    "        x = x*1000\n",
    "        return x\n",
    "    else:\n",
    "        return x"
   ]
  },
  {
   "cell_type": "code",
   "execution_count": 9,
   "metadata": {},
   "outputs": [],
   "source": [
    "DataBase['total_money_raised']= DataBase['total_money_raised'].apply(showmedamoney)"
   ]
  },
  {
   "cell_type": "code",
   "execution_count": 10,
   "metadata": {},
   "outputs": [],
   "source": [
    "def activity (m):\n",
    "    m = str(m)\n",
    "    \n",
    "    if re.search(\"s*(design)|(Design)\\s*\", m):\n",
    "        return m\n",
    "    elif re.search(\"s*(Video)|(video)\\s*\", m):\n",
    "        return m\n",
    "    elif re.search(\"s*(Game)|(game)\\s*\", m):\n",
    "        return m\n",
    "    elif re.search(\"s*(Gaming)|(gaming)\\s*\", m):\n",
    "        return m\n",
    "    \n",
    "    else:\n",
    "        return 'OTHERS'\n",
    "\n"
   ]
  },
  {
   "cell_type": "code",
   "execution_count": 11,
   "metadata": {},
   "outputs": [],
   "source": [
    "DataBase['description']= DataBase['description'].apply(activity)"
   ]
  },
  {
   "cell_type": "code",
   "execution_count": 12,
   "metadata": {},
   "outputs": [],
   "source": [
    "DataBase=DataBase[DataBase['description']!='OTHERS']"
   ]
  },
  {
   "cell_type": "code",
   "execution_count": 13,
   "metadata": {},
   "outputs": [],
   "source": [
    "DataBase['total_money_raised'] = DataBase['total_money_raised'].fillna(0.0).astype(int)"
   ]
  },
  {
   "cell_type": "raw",
   "metadata": {},
   "source": [
    "DataBase.to_json('/home/javier/Documentos/visualizing-real-world-data-project/DataBase_py_clean.json', orient='records')"
   ]
  },
  {
   "cell_type": "code",
   "execution_count": null,
   "metadata": {},
   "outputs": [],
   "source": []
  },
  {
   "cell_type": "code",
   "execution_count": 14,
   "metadata": {},
   "outputs": [],
   "source": [
    "DataBase=DataBase[DataBase['deadpooled_year']=='Unknown']"
   ]
  },
  {
   "cell_type": "code",
   "execution_count": null,
   "metadata": {},
   "outputs": [],
   "source": [
    "DataBase"
   ]
  },
  {
   "cell_type": "code",
   "execution_count": 18,
   "metadata": {},
   "outputs": [],
   "source": []
  },
  {
   "cell_type": "code",
   "execution_count": null,
   "metadata": {},
   "outputs": [],
   "source": []
  },
  {
   "cell_type": "code",
   "execution_count": null,
   "metadata": {},
   "outputs": [],
   "source": []
  }
 ],
 "metadata": {
  "kernelspec": {
   "display_name": "Python 3",
   "language": "python",
   "name": "python3"
  },
  "language_info": {
   "codemirror_mode": {
    "name": "ipython",
    "version": 3
   },
   "file_extension": ".py",
   "mimetype": "text/x-python",
   "name": "python",
   "nbconvert_exporter": "python",
   "pygments_lexer": "ipython3",
   "version": "3.6.8"
  }
 },
 "nbformat": 4,
 "nbformat_minor": 2
}
